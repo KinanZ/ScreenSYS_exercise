{
 "cells": [
  {
   "cell_type": "code",
   "execution_count": 4,
   "metadata": {},
   "outputs": [],
   "source": [
    "import numpy as np\n",
    "import cv2\n",
    "from matplotlib import pyplot as plt\n"
   ]
  },
  {
   "cell_type": "code",
   "execution_count": 9,
   "metadata": {},
   "outputs": [],
   "source": [
    "def read_and_thresh(img):\n",
    "    gray = cv2.cvtColor(img,cv2.COLOR_BGR2GRAY)\n",
    "    ret, thresh = cv2.threshold(gray,0,255,cv2.THRESH_BINARY_INV+cv2.THRESH_OTSU)\n",
    "\n",
    "    return thresh"
   ]
  },
  {
   "cell_type": "code",
   "execution_count": 10,
   "metadata": {},
   "outputs": [],
   "source": [
    "def clean_image(thresh):\n",
    "    # noise removal\n",
    "    kernel = np.ones((3,3),np.uint8)\n",
    "    opening = cv2.morphologyEx(thresh,cv2.MORPH_OPEN,kernel, iterations = 2)\n",
    "    \n",
    "    # sure background area\n",
    "    sure_bg = cv2.dilate(opening,kernel,iterations=3)\n",
    "    \n",
    "    # Finding sure foreground area\n",
    "    dist_transform = cv2.distanceTransform(opening,cv2.DIST_L2,5)\n",
    "    ret, sure_fg = cv2.threshold(dist_transform,0.7*dist_transform.max(),255,0)\n",
    "    \n",
    "    # Finding unknown region\n",
    "    sure_fg = np.uint8(sure_fg)\n",
    "    unknown = cv2.subtract(sure_bg,sure_fg)\n",
    "    \n",
    "    return sure_fg, unknown"
   ]
  },
  {
   "cell_type": "code",
   "execution_count": 11,
   "metadata": {},
   "outputs": [],
   "source": [
    "def segment_watershed(sure_fg, unknown, img):\n",
    "    # Marker labelling\n",
    "    ret, markers = cv2.connectedComponents(sure_fg)\n",
    "    \n",
    "    # Add one to all labels so that sure background is not 0, but 1\n",
    "    markers = markers+1\n",
    "    \n",
    "    # Now, mark the region of unknown with zero\n",
    "    markers[unknown==255] = 0\n",
    "    \n",
    "    markers = cv2.watershed(img,markers)\n",
    "    \n",
    "    return markers"
   ]
  },
  {
   "cell_type": "code",
   "execution_count": 12,
   "metadata": {},
   "outputs": [],
   "source": [
    "def cells_contours(markers):\n",
    "    contours, hierarchy = cv2.findContours(markers,cv2.RETR_CCOMP,cv2.CHAIN_APPROX_SIMPLE)\n",
    "    \n",
    "    idx = 0\n",
    "    cells = list()\n",
    "    for c in contours:\n",
    "        include = True  \n",
    "        # omit this contour if it touches the edge of the image\n",
    "        x,y,w,h = cv2.boundingRect(c)       \n",
    "        if x <= 1 or y <=1:\n",
    "            include = False                 \n",
    "        if x+w+1 >= markers.shape[1] or y+h+1 >= markers.shape[0]:\n",
    "            include = False\n",
    "        # draw the contour\n",
    "        if include == True and w>75 and h>75:\n",
    "            cells.append(c)\n",
    "\n",
    "    return cells"
   ]
  },
  {
   "cell_type": "code",
   "execution_count": 13,
   "metadata": {},
   "outputs": [],
   "source": [
    "def pad_and_resize(im):\n",
    "    desired_size = 500\n",
    "    \n",
    "    old_size = np.shape(im) # old_size is in (height, width) format\n",
    "    \n",
    "    ratio = float(desired_size)/max(old_size)\n",
    "    new_size = tuple([int(x*ratio) for x in old_size])\n",
    "    \n",
    "    # new_size should be in (width, height) format\n",
    "    \n",
    "    im = cv2.resize(im, (new_size[1], new_size[0]))\n",
    "    \n",
    "    delta_w = desired_size - new_size[1]\n",
    "    delta_h = desired_size - new_size[0]\n",
    "    top, bottom = delta_h//2, delta_h-(delta_h//2)\n",
    "    left, right = delta_w//2, delta_w-(delta_w//2)\n",
    "    \n",
    "    color = [0, 0, 0]\n",
    "    new_im = cv2.copyMakeBorder(im, top, bottom, left, right, cv2.BORDER_CONSTANT,value=color)\n",
    "    \n",
    "    return new_im"
   ]
  },
  {
   "cell_type": "code",
   "execution_count": 16,
   "metadata": {},
   "outputs": [],
   "source": [
    "paths = ['20_B5_1_green.jpg', '20_B5_2_green.jpg', '21_B5_1_green.jpg', '21_B5_2_green.jpg', '22_B5_1_green.jpg','22_B5_2_green.jpg',\n",
    "        '504_A4_1_green.jpg', '504_A4_3_green.jpg', '506_A4_2_green.jpg', '506_A4_3_green.jpg', '555_A4_1_green.jpg', '555_A4_2_green.jpg']\n",
    "\n",
    "for path in paths:\n",
    "    img = cv2.imread(path)\n",
    "    \n",
    "    thresh = read_and_thresh(img)\n",
    "    sure_fg, unknown = clean_image(thresh)\n",
    "    markers = segment_watershed(sure_fg, unknown, img)\n",
    "    cells = cells_contours(markers)\n",
    "        \n",
    "    count = 0\n",
    "    \n",
    "    for i in range(1,len(cells),2):\n",
    "        (x, y, w, h) = cv2.boundingRect(cells[i])\n",
    "        new_img=img[y:y+h,x:x+w]\n",
    "        resized_new_img = pad_and_resize(new_img)\n",
    "        cv2.imwrite(path[:-4] + str(count) + \".jpg\", resized_new_img)\n",
    "        count = count+1\n",
    "    \n"
   ]
  },
  {
   "cell_type": "code",
   "execution_count": null,
   "metadata": {},
   "outputs": [],
   "source": []
  }
 ],
 "metadata": {
  "kernelspec": {
   "display_name": "Python 3",
   "language": "python",
   "name": "python3"
  },
  "language_info": {
   "codemirror_mode": {
    "name": "ipython",
    "version": 3
   },
   "file_extension": ".py",
   "mimetype": "text/x-python",
   "name": "python",
   "nbconvert_exporter": "python",
   "pygments_lexer": "ipython3",
   "version": "3.7.3"
  }
 },
 "nbformat": 4,
 "nbformat_minor": 2
}
